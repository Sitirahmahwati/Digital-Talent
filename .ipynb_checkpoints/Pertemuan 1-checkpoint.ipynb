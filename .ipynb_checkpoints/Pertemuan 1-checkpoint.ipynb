{
 "cells": [
  {
   "cell_type": "markdown",
   "metadata": {},
   "source": [
    "# 1. Sintaks Dasar\n",
    "print adalah sintaks untuk mengoutputkan operasi. Untuk mengeksekusi bisa menggunakan SHIFT+ENTER"
   ]
  },
  {
   "cell_type": "code",
   "execution_count": 2,
   "metadata": {},
   "outputs": [
    {
     "name": "stdout",
     "output_type": "stream",
     "text": [
      "Hello World\n",
      "15625\n"
     ]
    }
   ],
   "source": [
    "print(\"Hello World\")\n",
    "print(5**6)"
   ]
  },
  {
   "cell_type": "code",
   "execution_count": 3,
   "metadata": {},
   "outputs": [
    {
     "name": "stdout",
     "output_type": "stream",
     "text": [
      "5 mempunyai tipe <class 'int'>\n",
      "5.0 mempunyai tipe <class 'float'>\n"
     ]
    }
   ],
   "source": [
    "a = 5\n",
    "print(a, \"mempunyai tipe\", type(a))\n",
    "\n",
    "a = 5.0\n",
    "print(a, \"mempunyai tipe\", type(a))"
   ]
  },
  {
   "cell_type": "code",
   "execution_count": 4,
   "metadata": {},
   "outputs": [
    {
     "name": "stdout",
     "output_type": "stream",
     "text": [
      "False mempunyai tipe <class 'bool'>\n",
      "True mempunyai tipe <class 'bool'>\n"
     ]
    }
   ],
   "source": [
    "a = 5>6\n",
    "print(a, \"mempunyai tipe\", type(a))\n",
    "\n",
    "a = 6>5\n",
    "print(a, \"mempunyai tipe\", type(a))"
   ]
  },
  {
   "cell_type": "code",
   "execution_count": 5,
   "metadata": {},
   "outputs": [
    {
     "name": "stdout",
     "output_type": "stream",
     "text": [
      "Ini adalah sebuah string mempunyai tipe <class 'str'>\n"
     ]
    }
   ],
   "source": [
    "a = \"Ini adalah sebuah string\"\n",
    "print(a, \"mempunyai tipe\", type(a))"
   ]
  },
  {
   "cell_type": "code",
   "execution_count": 6,
   "metadata": {},
   "outputs": [
    {
     "name": "stdout",
     "output_type": "stream",
     "text": [
      "29\n"
     ]
    }
   ],
   "source": [
    "x = 5\n",
    "y = 4\n",
    "print(x+y*x+y)"
   ]
  },
  {
   "cell_type": "code",
   "execution_count": 21,
   "metadata": {},
   "outputs": [
    {
     "name": "stdout",
     "output_type": "stream",
     "text": [
      "3786000.0\n"
     ]
    }
   ],
   "source": [
    "hargaBuku = 100000\n",
    "diskon = 40\n",
    "ongkirPertama = 9000\n",
    "ongkirLanjutan = 3000\n",
    "jumlahBuku = 60\n",
    "\n",
    "harga_setelah_diskon = hargaBuku*(100-diskon)/100\n",
    "harga_ongkir = ongkirPertama+ongkirLanjutan*(jumlahBuku-1)\n",
    "harga_total = harga_setelah_diskon*jumlahBuku+harga_ongkir\n",
    "\n",
    "print(harga_total)"
   ]
  },
  {
   "cell_type": "code",
   "execution_count": 22,
   "metadata": {},
   "outputs": [
    {
     "name": "stdout",
     "output_type": "stream",
     "text": [
      "Anda masuk ke waiting list\n",
      "Program Selesai\n"
     ]
    }
   ],
   "source": [
    "nilai = 85\n",
    "if nilai>=90:\n",
    "    print(\"Lulus\")\n",
    "    print(\"Selamat\")\n",
    "elif nilai>80:\n",
    "    print(\"Anda masuk ke waiting list\")\n",
    "else:\n",
    "    print(\"Maaf Anda Belum Berhasil\")\n",
    "\n",
    "print(\"Program Selesai\")"
   ]
  },
  {
   "cell_type": "code",
   "execution_count": 23,
   "metadata": {},
   "outputs": [
    {
     "name": "stdout",
     "output_type": "stream",
     "text": [
      "Maaf, anda belum berhak mengikuti program beeasiswa\n",
      "Program Selesai\n"
     ]
    }
   ],
   "source": [
    "nilai = 95\n",
    "umur = 10\n",
    "\n",
    "if nilai>90:\n",
    "    if umur>17:\n",
    "        print(\"Selamat anda berhak mengikuti program beasiswa\")\n",
    "    else:\n",
    "        print(\"Maaf, anda belum berhak mengikuti program beeasiswa\")\n",
    "        \n",
    "else:\n",
    "    print(\"Maaf, anda belum berhasil\")\n",
    "    \n",
    "print(\"Program Selesai\")"
   ]
  },
  {
   "cell_type": "code",
   "execution_count": 22,
   "metadata": {},
   "outputs": [
    {
     "name": "stdout",
     "output_type": "stream",
     "text": [
      "Kategori BMI adalah moderately overweight\n"
     ]
    }
   ],
   "source": [
    "berat_badan = 70.0\n",
    "tinggi_badan = 1.5\n",
    "BMI = berat_badan/tinggi_badan**2\n",
    "\n",
    "if BMI<15.0:\n",
    "    print(\"Kategori BMI adalah very severely underweight\")\n",
    "elif 15.0<=BMI<16.0:\n",
    "    print(\"Kategori BMI adalah severely underweight\")\n",
    "elif 16.0<=BMI<18.5:\n",
    "    print(\"Kategori BMI adalah underweight\")\n",
    "elif 18.5<=BMI<25.0:\n",
    "    print(\"Kategori BMI adalah normal(healthy weight)\")\n",
    "elif 25.0<=BMI<30.0:\n",
    "    print(\"Kategori BMI adalah overweight\")\n",
    "elif 30.0<=BMI<35.0:\n",
    "    print(\"Kategori BMI adalah moderately overweight\")\n",
    "elif 35.0<=BMI<40:\n",
    "    print(\"Kategori BMI adalah severely obese\")\n",
    "  \n",
    "else:\n",
    "    print(\"Kategori BMI adalah very severely obese\")"
   ]
  },
  {
   "cell_type": "code",
   "execution_count": null,
   "metadata": {},
   "outputs": [],
   "source": []
  }
 ],
 "metadata": {
  "kernelspec": {
   "display_name": "Python 3",
   "language": "python",
   "name": "python3"
  },
  "language_info": {
   "codemirror_mode": {
    "name": "ipython",
    "version": 3
   },
   "file_extension": ".py",
   "mimetype": "text/x-python",
   "name": "python",
   "nbconvert_exporter": "python",
   "pygments_lexer": "ipython3",
   "version": "3.7.0"
  }
 },
 "nbformat": 4,
 "nbformat_minor": 2
}
