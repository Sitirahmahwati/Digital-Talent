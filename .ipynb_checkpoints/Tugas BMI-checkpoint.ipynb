{
 "cells": [
  {
   "cell_type": "code",
   "execution_count": 5,
   "metadata": {},
   "outputs": [
    {
     "name": "stdout",
     "output_type": "stream",
     "text": [
      "Kategori BMI adalah overweight\n"
     ]
    }
   ],
   "source": [
    "berat_badan_dalam_kg = 70.0\n",
    "tinggi_badan_dalam_cm = 160.0\n",
    "\n",
    "tinggi_badan_dalam_m = tinggi_badan_dalam_cm/100\n",
    "BMI = berat_badan_dalam_kg/tinggi_badan_dalam_m**2\n",
    "\n",
    "if BMI<15.0:\n",
    "    print(\"Kategori BMI adalah very severely underweight\")\n",
    "elif 15.0<=BMI<16.0:\n",
    "    print(\"Kategori BMI adalah severely underweight\")\n",
    "elif 16.0<=BMI<18.5:\n",
    "    print(\"Kategori BMI adalah underweight\")\n",
    "elif 18.5<=BMI<25.0:\n",
    "    print(\"Kategori BMI adalah normal(healthy weight)\")\n",
    "elif 25.0<=BMI<30.0:\n",
    "    print(\"Kategori BMI adalah overweight\")\n",
    "elif 30.0<=BMI<35.0:\n",
    "    print(\"Kategori BMI adalah moderately overweight\")\n",
    "elif 35.0<=BMI<40.0:\n",
    "    print(\"Kategori BMI adalah severely obese\")\n",
    "  \n",
    "else:\n",
    "    print(\"Kategori BMI adalah very severely obese\")"
   ]
  },
  {
   "cell_type": "code",
   "execution_count": null,
   "metadata": {},
   "outputs": [],
   "source": []
  }
 ],
 "metadata": {
  "kernelspec": {
   "display_name": "Python 3",
   "language": "python",
   "name": "python3"
  },
  "language_info": {
   "codemirror_mode": {
    "name": "ipython",
    "version": 3
   },
   "file_extension": ".py",
   "mimetype": "text/x-python",
   "name": "python",
   "nbconvert_exporter": "python",
   "pygments_lexer": "ipython3",
   "version": "3.7.0"
  }
 },
 "nbformat": 4,
 "nbformat_minor": 2
}
