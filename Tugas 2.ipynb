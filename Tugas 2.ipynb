{
 "cells": [
  {
   "cell_type": "markdown",
   "metadata": {},
   "source": [
    "# Latihan 2"
   ]
  },
  {
   "cell_type": "code",
   "execution_count": 2,
   "metadata": {},
   "outputs": [
    {
     "name": "stdout",
     "output_type": "stream",
     "text": [
      "[78, 90, 34, 62, 81, 25, 78, 99, 81, 71, 94, 14, 84, 92, 20, 83, 80, 96, 37, 67, 28, 7, 40, 44, 53, 76, 70, 39, 16, 36, 26, 22, 8, 74, 11, 85, 14, 91, 40, 86, 13, 13, 54, 93, 96, 42, 15, 81, 12, 45, 34, 68, 41, 19, 13, 34, 10, 33, 85, 16, 56, 96, 83, 94, 78, 83, 28, 61, 45, 3, 80, 20, 87, 82, 90, 19, 83, 4, 47, 65, 86, 65, 86, 44, 22, 81, 40, 68, 82, 18, 2, 28, 42, 73, 51, 74, 67, 98, 85, 91, 3, 41, 32, 98, 64, 29, 5, 82, 17, 67, 73, 24, 58, 56, 67, 66, 70, 9, 16, 42, 97, 96, 81, 24, 62, 8, 62, 66, 68, 33, 96, 4, 51, 82, 24, 72, 36, 74, 71, 73, 89, 94, 2, 60, 55, 12, 27, 29, 64, 24, 68, 34, 48, 66, 11, 68, 46, 55, 22, 19, 71, 12, 22, 49, 73, 87, 94, 17, 1, 36, 62, 94, 73, 44, 64, 13, 74, 22, 97, 77, 5, 50, 62, 81, 59, 10, 9, 86, 1, 52, 31, 42, 34, 21, 50, 94, 16, 6, 81, 46, 76, 8, 56, 50, 15, 90, 54, 78, 83, 34, 82, 57, 33, 43, 90, 77, 63, 5, 15, 82, 46, 59, 71, 19, 23, 91, 42, 26, 2, 99, 73, 34, 14, 71, 45, 99, 20, 28, 18, 61, 78, 37, 97, 92, 2, 56, 26, 97, 86, 86]\n"
     ]
    }
   ],
   "source": [
    "import random\n",
    "\n",
    "# GENERATE RANDOM\n",
    "nilaiTugas = []\n",
    "for i in range(250):\n",
    "    nilaiTugas.append(random.randrange(1,100,1))\n",
    "\n",
    "print(nilaiTugas)"
   ]
  },
  {
   "cell_type": "code",
   "execution_count": 28,
   "metadata": {},
   "outputs": [
    {
     "name": "stdout",
     "output_type": "stream",
     "text": [
      "Nilai ganjilnya adalah [81, 25, 99, 81, 71, 83, 37, 67, 7, 53, 39, 11, 85, 91, 13, 13, 93, 15, 81, 45, 41, 19, 13, 33, 85, 83, 83, 61, 45, 3, 87, 19, 83, 47, 65, 65, 81, 73, 51, 67, 85, 91, 3, 41, 29, 5, 17, 67, 73, 67, 9, 97, 81, 33, 51, 71, 73, 89, 55, 27, 29, 11, 55, 19, 71, 49, 73, 87, 17, 1, 73, 13, 97, 77, 5, 81, 59, 9, 1, 31, 21, 81, 15, 83, 57, 33, 43, 77, 63, 5, 15, 59, 71, 19, 23, 91, 99, 73, 71, 45, 99, 61, 37, 97, 97]\n"
     ]
    }
   ],
   "source": [
    "# Nilai ganjil\n",
    "nilaiGanjil = []\n",
    "for i in nilaiTugas:\n",
    "    if i%2==1:\n",
    "        nilaiGanjil.append(i)\n",
    "print(\"Nilai ganjilnya adalah\", nilaiGanjil)"
   ]
  },
  {
   "cell_type": "code",
   "execution_count": 11,
   "metadata": {},
   "outputs": [
    {
     "name": "stdout",
     "output_type": "stream",
     "text": [
      "[78, 90, 81, 78, 99, 81, 71, 94, 84, 92, 83, 80, 96, 76, 74, 85, 91, 86, 93, 96, 81, 85, 96, 83, 94, 78, 83, 80, 87, 82, 90, 83, 86, 86, 81, 82, 73, 74, 98, 85, 91, 98, 82, 73, 97, 96, 81, 96, 82, 72, 74, 71, 73, 89, 94, 71, 73, 87, 94, 94, 73, 74, 97, 77, 81, 86, 94, 81, 76, 90, 78, 83, 82, 90, 77, 82, 71, 91, 99, 73, 71, 99, 78, 97, 92, 97, 86, 86]\n",
      "Jadi total nilai yang lebih besar dari 70 sebanyak 88\n"
     ]
    }
   ],
   "source": [
    "# banyak nilai yang lebih dari 70\n",
    "Nilai_besar_dari_70 = []\n",
    "for nilai in nilaiTugas:\n",
    "    if nilai>70:\n",
    "        Nilai_besar_dari_70.append(nilai)\n",
    "print(Nilai_besar_dari_70)\n",
    "jumlah = len(Nilai_besar_dari_70)\n",
    "\n",
    "print(\"Jadi total nilai yang lebih besar dari 70 sebanyak\", jumlah)"
   ]
  },
  {
   "cell_type": "code",
   "execution_count": 29,
   "metadata": {},
   "outputs": [
    {
     "name": "stdout",
     "output_type": "stream",
     "text": [
      "Nilai standar deviasinya adalah 44.81120395615365\n"
     ]
    }
   ],
   "source": [
    "# standar deviasi\n",
    "total = 0\n",
    "for i in nilaiTugas:\n",
    "    total= total+n\n",
    "rata_rata= total/len(nilaiTugas)\n",
    "\n",
    "a = 0\n",
    "for x in nilaiTugas:\n",
    "    x =(x-rata_rata)**2\n",
    "    a = a + x\n",
    "\n",
    "atas= a/len(nilaiTugas)-1    \n",
    "standar_deviasi= (atas**0.5)\n",
    "print(\"Nilai standar deviasinya adalah\",standar_deviasi)"
   ]
  },
  {
   "cell_type": "code",
   "execution_count": 30,
   "metadata": {},
   "outputs": [
    {
     "name": "stdout",
     "output_type": "stream",
     "text": [
      "Nilai maksimumnya adalah 99\n",
      "Nilai minimumnya adalah 1\n"
     ]
    }
   ],
   "source": [
    "# nilai maksimum dan minimum\n",
    "max = 0\n",
    "min = 1000\n",
    "for i in nilaiTugas:\n",
    "    if i > max:\n",
    "        max = i\n",
    "    if i < min:\n",
    "        min = i\n",
    "    \n",
    "print(\"Nilai maksimumnya adalah\",max)\n",
    "print(\"Nilai minimumnya adalah\",min)"
   ]
  },
  {
   "cell_type": "code",
   "execution_count": 68,
   "metadata": {},
   "outputs": [
    {
     "name": "stdout",
     "output_type": "stream",
     "text": [
      "Nilai modusnya adalah 86\n"
     ]
    }
   ],
   "source": [
    "# Nilai modus\n",
    "modus = nilaiTugas[0]\n",
    "jumlah = nilaiTugas.count(modus)\n",
    "for i in nilaiTugas:\n",
    "    banyak_nilai = nilaiTugas.count(i)\n",
    "    if banyak_nilai> jumlah:\n",
    "        modus = i\n",
    "        banyak_nilai = jumlah\n",
    "print(\"Nilai modusnya adalah\",modus)"
   ]
  },
  {
   "cell_type": "markdown",
   "metadata": {},
   "source": [
    "# Latihan 3"
   ]
  },
  {
   "cell_type": "code",
   "execution_count": 38,
   "metadata": {},
   "outputs": [
    {
     "name": "stdout",
     "output_type": "stream",
     "text": [
      "Barcelona berhasil merebut posisi puncak klasemen La Liga Spanyol seusai menang 4-2 atas Sevilla pada pertandingan pekan kesembilan di Stadion Camp Nou, Sabtu (20/10/2018) atau Minggu dini hari WIB. Barcelona membuka keunggulan pada menit ke-2 melalui gol yang dicetak oleh Philippe Coutinho. Lionel Messi menggandakan keunggulan Barcelona, 10 menit berselang.  Namun, nahas bagi Barcelona, karena Messi harus ditarik keluar pada menit ke-26 setelah mengalami cedera. Tanpa Messi, skor 2-0 bertahan hingga babak pertama berakhir.\n"
     ]
    }
   ],
   "source": [
    "paragraf = \"Barcelona berhasil merebut posisi puncak klasemen La Liga Spanyol seusai menang 4-2 atas Sevilla pada pertandingan pekan kesembilan di Stadion Camp Nou, Sabtu (20/10/2018) atau Minggu dini hari WIB. Barcelona membuka keunggulan pada menit ke-2 melalui gol yang dicetak oleh Philippe Coutinho. Lionel Messi menggandakan keunggulan Barcelona, 10 menit berselang.  Namun, nahas bagi Barcelona, karena Messi harus ditarik keluar pada menit ke-26 setelah mengalami cedera. Tanpa Messi, skor 2-0 bertahan hingga babak pertama berakhir.\"\n",
    "print(paragraf)"
   ]
  },
  {
   "cell_type": "code",
   "execution_count": 61,
   "metadata": {
    "scrolled": true
   },
   "outputs": [
    {
     "name": "stdout",
     "output_type": "stream",
     "text": [
      "Paragraf Baru:\n",
      " barcelona berhasil merebut posisi puncak klasemen la liga spanyol seusai menang 4-2 atas sevilla pada pertandingan pekan kesembilan di stadion camp nou, sabtu (20/10/2018) atau minggu dini hari wib barcelona membuka keunggulan pada menit ke-2 melalui gol yang dicetak oleh philippe coutinho lionel messi menggandakan keunggulan barcelona, 10 menit berselang  namun, nahas bagi barcelona, karena messi harus ditarik keluar pada menit ke-26 setelah mengalami cedera tanpa messi, skor 2-0 bertahan hingga babak pertama berakhir \n",
      "\n"
     ]
    }
   ],
   "source": [
    "# Menghilangkan tanda baca\n",
    "lower=paragraf.lower()\n",
    "paragraf_baru = lower.replace('.','')\n",
    "print(\"Paragraf Baru:\\n\",paragraf_baru,\"\\n\")"
   ]
  },
  {
   "cell_type": "code",
   "execution_count": 64,
   "metadata": {
    "scrolled": true
   },
   "outputs": [
    {
     "name": "stdout",
     "output_type": "stream",
     "text": [
      "['barcelona', 'berhasil', 'merebut', 'posisi', 'puncak', 'klasemen', 'la', 'liga', 'spanyol', 'seusai', 'menang', '4-2', 'atas', 'sevilla', 'pada', 'pertandingan', 'pekan', 'kesembilan', 'di', 'stadion', 'camp', 'nou,', 'sabtu', '(20/10/2018)', 'atau', 'minggu', 'dini', 'hari', 'wib', 'barcelona', 'membuka', 'keunggulan', 'pada', 'menit', 'ke-2', 'melalui', 'gol', 'yang', 'dicetak', 'oleh', 'philippe', 'coutinho', 'lionel', 'messi', 'menggandakan', 'keunggulan', 'barcelona,', '10', 'menit', 'berselang', 'namun,', 'nahas', 'bagi', 'barcelona,', 'karena', 'messi', 'harus', 'ditarik', 'keluar', 'pada', 'menit', 'ke-26', 'setelah', 'mengalami', 'cedera', 'tanpa', 'messi,', 'skor', '2-0', 'bertahan', 'hingga', 'babak', 'pertama', 'berakhir']\n"
     ]
    }
   ],
   "source": [
    "# Split Kata\n",
    "kata=paragraf_baru.split()\n",
    "print(kata)"
   ]
  },
  {
   "cell_type": "code",
   "execution_count": 69,
   "metadata": {},
   "outputs": [
    {
     "name": "stdout",
     "output_type": "stream",
     "text": [
      "Menghitung kemunculan perkata:\n",
      "\n",
      "barcelona : 2\n",
      "berhasil : 1\n",
      "merebut : 1\n",
      "posisi : 1\n",
      "puncak : 1\n",
      "klasemen : 1\n",
      "la : 1\n",
      "liga : 1\n",
      "spanyol : 1\n",
      "seusai : 1\n",
      "menang : 1\n",
      "4-2 : 1\n",
      "atas : 1\n",
      "sevilla : 1\n",
      "pada : 3\n",
      "pertandingan : 1\n",
      "pekan : 1\n",
      "kesembilan : 1\n",
      "di : 1\n",
      "stadion : 1\n",
      "camp : 1\n",
      "nou, : 1\n",
      "sabtu : 1\n",
      "(20/10/2018) : 1\n",
      "atau : 1\n",
      "minggu : 1\n",
      "dini : 1\n",
      "hari : 1\n",
      "wib : 1\n",
      "membuka : 1\n",
      "keunggulan : 2\n",
      "menit : 3\n",
      "ke-2 : 1\n",
      "melalui : 1\n",
      "gol : 1\n",
      "yang : 1\n",
      "dicetak : 1\n",
      "oleh : 1\n",
      "philippe : 1\n",
      "coutinho : 1\n",
      "lionel : 1\n",
      "messi : 2\n",
      "menggandakan : 1\n",
      "barcelona, : 2\n",
      "10 : 1\n",
      "berselang : 1\n",
      "namun, : 1\n",
      "nahas : 1\n",
      "bagi : 1\n",
      "karena : 1\n",
      "harus : 1\n",
      "ditarik : 1\n",
      "keluar : 1\n",
      "ke-26 : 1\n",
      "setelah : 1\n",
      "mengalami : 1\n",
      "cedera : 1\n",
      "tanpa : 1\n",
      "messi, : 1\n",
      "skor : 1\n",
      "2-0 : 1\n",
      "bertahan : 1\n",
      "hingga : 1\n",
      "babak : 1\n",
      "pertama : 1\n",
      "berakhir : 1\n"
     ]
    }
   ],
   "source": [
    "# Menghitung kemunculan perkata\n",
    "dict={}\n",
    "for k in kata:\n",
    "    if k in dict:\n",
    "        dict[k]+=1\n",
    "    else:\n",
    "        dict[k]=1\n",
    "print(\"Menghitung kemunculan perkata:\\n\")\n",
    "for k,l in dict.items():\n",
    "    print(k, \":\", l)"
   ]
  },
  {
   "cell_type": "code",
   "execution_count": null,
   "metadata": {},
   "outputs": [],
   "source": []
  }
 ],
 "metadata": {
  "kernelspec": {
   "display_name": "Python 3",
   "language": "python",
   "name": "python3"
  },
  "language_info": {
   "codemirror_mode": {
    "name": "ipython",
    "version": 3
   },
   "file_extension": ".py",
   "mimetype": "text/x-python",
   "name": "python",
   "nbconvert_exporter": "python",
   "pygments_lexer": "ipython3",
   "version": "3.7.0"
  }
 },
 "nbformat": 4,
 "nbformat_minor": 2
}
